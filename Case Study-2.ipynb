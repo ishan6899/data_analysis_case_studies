{
 "cells": [
  {
   "cell_type": "markdown",
   "metadata": {},
   "source": [
    "<h1 style=\"font-size:35px;color:deeppink;\"> Data Analysis -Case Study 2</h1>"
   ]
  },
  {
   "cell_type": "markdown",
   "metadata": {},
   "source": [
    "In this Case Study I took a more challenging data,that requires good amount of cleaning at my level as of now. After we will clean our data we will perform our analysis to perform Data Cleaning and reach at a conclusion"
   ]
  },
  {
   "cell_type": "markdown",
   "metadata": {},
   "source": [
    "## Step 1:Asking Questions\n",
    "\n",
    "<p style=\"font-size:17px;\">Q1)What are features responsible for better fuel economy<br>\n",
    "Q2)How much have veichles improved in fuel economy?<br>\n",
    "Q3)For all of the models that were produced in 2008 that are still being produced in 2018, how much has the mpg improved and which vehicle improved the most?<br>\n",
    "Q4)Are more models using alternative sources of fuel? By how much?<br>\n",
    "Q5)What are the characteristics of SmartWay vehicles?<br></p>\n",
    "\n"
   ]
  },
  {
   "cell_type": "code",
   "execution_count": 1,
   "metadata": {},
   "outputs": [],
   "source": [
    "import pandas as pd\n",
    "import numpy as np\n",
    "import matplotlib.pyplot as plt"
   ]
  },
  {
   "cell_type": "markdown",
   "metadata": {},
   "source": [
    "## Step 2 :Data Wrangling"
   ]
  },
  {
   "cell_type": "markdown",
   "metadata": {},
   "source": [
    "### Gathering Data"
   ]
  },
  {
   "cell_type": "code",
   "execution_count": 2,
   "metadata": {},
   "outputs": [],
   "source": [
    "a=pd.read_csv('all_alpha_08.csv')\n",
    "b=pd.read_csv('all_alpha_18.csv')"
   ]
  },
  {
   "cell_type": "markdown",
   "metadata": {},
   "source": [
    "### Assessing Data"
   ]
  },
  {
   "cell_type": "code",
   "execution_count": 3,
   "metadata": {},
   "outputs": [
    {
     "data": {
      "text/html": [
       "<div>\n",
       "<style scoped>\n",
       "    .dataframe tbody tr th:only-of-type {\n",
       "        vertical-align: middle;\n",
       "    }\n",
       "\n",
       "    .dataframe tbody tr th {\n",
       "        vertical-align: top;\n",
       "    }\n",
       "\n",
       "    .dataframe thead th {\n",
       "        text-align: right;\n",
       "    }\n",
       "</style>\n",
       "<table border=\"1\" class=\"dataframe\">\n",
       "  <thead>\n",
       "    <tr style=\"text-align: right;\">\n",
       "      <th></th>\n",
       "      <th>Model</th>\n",
       "      <th>Displ</th>\n",
       "      <th>Cyl</th>\n",
       "      <th>Trans</th>\n",
       "      <th>Drive</th>\n",
       "      <th>Fuel</th>\n",
       "      <th>Sales Area</th>\n",
       "      <th>Stnd</th>\n",
       "      <th>Underhood ID</th>\n",
       "      <th>Veh Class</th>\n",
       "      <th>Air Pollution Score</th>\n",
       "      <th>FE Calc Appr</th>\n",
       "      <th>City MPG</th>\n",
       "      <th>Hwy MPG</th>\n",
       "      <th>Cmb MPG</th>\n",
       "      <th>Unadj Cmb MPG</th>\n",
       "      <th>Greenhouse Gas Score</th>\n",
       "      <th>SmartWay</th>\n",
       "    </tr>\n",
       "  </thead>\n",
       "  <tbody>\n",
       "    <tr>\n",
       "      <th>0</th>\n",
       "      <td>ACURA MDX</td>\n",
       "      <td>3.7</td>\n",
       "      <td>(6 cyl)</td>\n",
       "      <td>Auto-S5</td>\n",
       "      <td>4WD</td>\n",
       "      <td>Gasoline</td>\n",
       "      <td>CA</td>\n",
       "      <td>U2</td>\n",
       "      <td>8HNXT03.7PKR</td>\n",
       "      <td>SUV</td>\n",
       "      <td>7</td>\n",
       "      <td>Drv</td>\n",
       "      <td>15</td>\n",
       "      <td>20</td>\n",
       "      <td>17</td>\n",
       "      <td>22.0527</td>\n",
       "      <td>4</td>\n",
       "      <td>no</td>\n",
       "    </tr>\n",
       "    <tr>\n",
       "      <th>1</th>\n",
       "      <td>ACURA MDX</td>\n",
       "      <td>3.7</td>\n",
       "      <td>(6 cyl)</td>\n",
       "      <td>Auto-S5</td>\n",
       "      <td>4WD</td>\n",
       "      <td>Gasoline</td>\n",
       "      <td>FA</td>\n",
       "      <td>B5</td>\n",
       "      <td>8HNXT03.7PKR</td>\n",
       "      <td>SUV</td>\n",
       "      <td>6</td>\n",
       "      <td>Drv</td>\n",
       "      <td>15</td>\n",
       "      <td>20</td>\n",
       "      <td>17</td>\n",
       "      <td>22.0527</td>\n",
       "      <td>4</td>\n",
       "      <td>no</td>\n",
       "    </tr>\n",
       "    <tr>\n",
       "      <th>2</th>\n",
       "      <td>ACURA RDX</td>\n",
       "      <td>2.3</td>\n",
       "      <td>(4 cyl)</td>\n",
       "      <td>Auto-S5</td>\n",
       "      <td>4WD</td>\n",
       "      <td>Gasoline</td>\n",
       "      <td>CA</td>\n",
       "      <td>U2</td>\n",
       "      <td>8HNXT02.3DKR</td>\n",
       "      <td>SUV</td>\n",
       "      <td>7</td>\n",
       "      <td>Drv</td>\n",
       "      <td>17</td>\n",
       "      <td>22</td>\n",
       "      <td>19</td>\n",
       "      <td>24.1745</td>\n",
       "      <td>5</td>\n",
       "      <td>no</td>\n",
       "    </tr>\n",
       "    <tr>\n",
       "      <th>3</th>\n",
       "      <td>ACURA RDX</td>\n",
       "      <td>2.3</td>\n",
       "      <td>(4 cyl)</td>\n",
       "      <td>Auto-S5</td>\n",
       "      <td>4WD</td>\n",
       "      <td>Gasoline</td>\n",
       "      <td>FA</td>\n",
       "      <td>B5</td>\n",
       "      <td>8HNXT02.3DKR</td>\n",
       "      <td>SUV</td>\n",
       "      <td>6</td>\n",
       "      <td>Drv</td>\n",
       "      <td>17</td>\n",
       "      <td>22</td>\n",
       "      <td>19</td>\n",
       "      <td>24.1745</td>\n",
       "      <td>5</td>\n",
       "      <td>no</td>\n",
       "    </tr>\n",
       "    <tr>\n",
       "      <th>4</th>\n",
       "      <td>ACURA RL</td>\n",
       "      <td>3.5</td>\n",
       "      <td>(6 cyl)</td>\n",
       "      <td>Auto-S5</td>\n",
       "      <td>4WD</td>\n",
       "      <td>Gasoline</td>\n",
       "      <td>CA</td>\n",
       "      <td>U2</td>\n",
       "      <td>8HNXV03.5HKR</td>\n",
       "      <td>midsize car</td>\n",
       "      <td>7</td>\n",
       "      <td>Drv</td>\n",
       "      <td>16</td>\n",
       "      <td>24</td>\n",
       "      <td>19</td>\n",
       "      <td>24.5629</td>\n",
       "      <td>5</td>\n",
       "      <td>no</td>\n",
       "    </tr>\n",
       "  </tbody>\n",
       "</table>\n",
       "</div>"
      ],
      "text/plain": [
       "       Model  Displ      Cyl    Trans Drive      Fuel Sales Area Stnd  \\\n",
       "0  ACURA MDX    3.7  (6 cyl)  Auto-S5   4WD  Gasoline         CA   U2   \n",
       "1  ACURA MDX    3.7  (6 cyl)  Auto-S5   4WD  Gasoline         FA   B5   \n",
       "2  ACURA RDX    2.3  (4 cyl)  Auto-S5   4WD  Gasoline         CA   U2   \n",
       "3  ACURA RDX    2.3  (4 cyl)  Auto-S5   4WD  Gasoline         FA   B5   \n",
       "4   ACURA RL    3.5  (6 cyl)  Auto-S5   4WD  Gasoline         CA   U2   \n",
       "\n",
       "   Underhood ID    Veh Class Air Pollution Score FE Calc Appr City MPG  \\\n",
       "0  8HNXT03.7PKR          SUV                   7          Drv       15   \n",
       "1  8HNXT03.7PKR          SUV                   6          Drv       15   \n",
       "2  8HNXT02.3DKR          SUV                   7          Drv       17   \n",
       "3  8HNXT02.3DKR          SUV                   6          Drv       17   \n",
       "4  8HNXV03.5HKR  midsize car                   7          Drv       16   \n",
       "\n",
       "  Hwy MPG Cmb MPG  Unadj Cmb MPG Greenhouse Gas Score SmartWay  \n",
       "0      20      17        22.0527                    4       no  \n",
       "1      20      17        22.0527                    4       no  \n",
       "2      22      19        24.1745                    5       no  \n",
       "3      22      19        24.1745                    5       no  \n",
       "4      24      19        24.5629                    5       no  "
      ]
     },
     "execution_count": 3,
     "metadata": {},
     "output_type": "execute_result"
    }
   ],
   "source": [
    "a.head()"
   ]
  },
  {
   "cell_type": "code",
   "execution_count": 4,
   "metadata": {},
   "outputs": [
    {
     "data": {
      "text/html": [
       "<div>\n",
       "<style scoped>\n",
       "    .dataframe tbody tr th:only-of-type {\n",
       "        vertical-align: middle;\n",
       "    }\n",
       "\n",
       "    .dataframe tbody tr th {\n",
       "        vertical-align: top;\n",
       "    }\n",
       "\n",
       "    .dataframe thead th {\n",
       "        text-align: right;\n",
       "    }\n",
       "</style>\n",
       "<table border=\"1\" class=\"dataframe\">\n",
       "  <thead>\n",
       "    <tr style=\"text-align: right;\">\n",
       "      <th></th>\n",
       "      <th>Model</th>\n",
       "      <th>Displ</th>\n",
       "      <th>Cyl</th>\n",
       "      <th>Trans</th>\n",
       "      <th>Drive</th>\n",
       "      <th>Fuel</th>\n",
       "      <th>Cert Region</th>\n",
       "      <th>Stnd</th>\n",
       "      <th>Stnd Description</th>\n",
       "      <th>Underhood ID</th>\n",
       "      <th>Veh Class</th>\n",
       "      <th>Air Pollution Score</th>\n",
       "      <th>City MPG</th>\n",
       "      <th>Hwy MPG</th>\n",
       "      <th>Cmb MPG</th>\n",
       "      <th>Greenhouse Gas Score</th>\n",
       "      <th>SmartWay</th>\n",
       "      <th>Comb CO2</th>\n",
       "    </tr>\n",
       "  </thead>\n",
       "  <tbody>\n",
       "    <tr>\n",
       "      <th>0</th>\n",
       "      <td>ACURA RDX</td>\n",
       "      <td>3.5</td>\n",
       "      <td>6.0</td>\n",
       "      <td>SemiAuto-6</td>\n",
       "      <td>2WD</td>\n",
       "      <td>Gasoline</td>\n",
       "      <td>FA</td>\n",
       "      <td>T3B125</td>\n",
       "      <td>Federal Tier 3 Bin 125</td>\n",
       "      <td>JHNXT03.5GV3</td>\n",
       "      <td>small SUV</td>\n",
       "      <td>3</td>\n",
       "      <td>20</td>\n",
       "      <td>28</td>\n",
       "      <td>23</td>\n",
       "      <td>5</td>\n",
       "      <td>No</td>\n",
       "      <td>386</td>\n",
       "    </tr>\n",
       "    <tr>\n",
       "      <th>1</th>\n",
       "      <td>ACURA RDX</td>\n",
       "      <td>3.5</td>\n",
       "      <td>6.0</td>\n",
       "      <td>SemiAuto-6</td>\n",
       "      <td>2WD</td>\n",
       "      <td>Gasoline</td>\n",
       "      <td>CA</td>\n",
       "      <td>U2</td>\n",
       "      <td>California LEV-II ULEV</td>\n",
       "      <td>JHNXT03.5GV3</td>\n",
       "      <td>small SUV</td>\n",
       "      <td>3</td>\n",
       "      <td>20</td>\n",
       "      <td>28</td>\n",
       "      <td>23</td>\n",
       "      <td>5</td>\n",
       "      <td>No</td>\n",
       "      <td>386</td>\n",
       "    </tr>\n",
       "    <tr>\n",
       "      <th>2</th>\n",
       "      <td>ACURA RDX</td>\n",
       "      <td>3.5</td>\n",
       "      <td>6.0</td>\n",
       "      <td>SemiAuto-6</td>\n",
       "      <td>4WD</td>\n",
       "      <td>Gasoline</td>\n",
       "      <td>FA</td>\n",
       "      <td>T3B125</td>\n",
       "      <td>Federal Tier 3 Bin 125</td>\n",
       "      <td>JHNXT03.5GV3</td>\n",
       "      <td>small SUV</td>\n",
       "      <td>3</td>\n",
       "      <td>19</td>\n",
       "      <td>27</td>\n",
       "      <td>22</td>\n",
       "      <td>4</td>\n",
       "      <td>No</td>\n",
       "      <td>402</td>\n",
       "    </tr>\n",
       "    <tr>\n",
       "      <th>3</th>\n",
       "      <td>ACURA RDX</td>\n",
       "      <td>3.5</td>\n",
       "      <td>6.0</td>\n",
       "      <td>SemiAuto-6</td>\n",
       "      <td>4WD</td>\n",
       "      <td>Gasoline</td>\n",
       "      <td>CA</td>\n",
       "      <td>U2</td>\n",
       "      <td>California LEV-II ULEV</td>\n",
       "      <td>JHNXT03.5GV3</td>\n",
       "      <td>small SUV</td>\n",
       "      <td>3</td>\n",
       "      <td>19</td>\n",
       "      <td>27</td>\n",
       "      <td>22</td>\n",
       "      <td>4</td>\n",
       "      <td>No</td>\n",
       "      <td>402</td>\n",
       "    </tr>\n",
       "    <tr>\n",
       "      <th>4</th>\n",
       "      <td>ACURA TLX</td>\n",
       "      <td>2.4</td>\n",
       "      <td>4.0</td>\n",
       "      <td>AMS-8</td>\n",
       "      <td>2WD</td>\n",
       "      <td>Gasoline</td>\n",
       "      <td>CA</td>\n",
       "      <td>L3ULEV125</td>\n",
       "      <td>California LEV-III ULEV125</td>\n",
       "      <td>JHNXV02.4WH3</td>\n",
       "      <td>small car</td>\n",
       "      <td>3</td>\n",
       "      <td>23</td>\n",
       "      <td>33</td>\n",
       "      <td>27</td>\n",
       "      <td>6</td>\n",
       "      <td>No</td>\n",
       "      <td>330</td>\n",
       "    </tr>\n",
       "  </tbody>\n",
       "</table>\n",
       "</div>"
      ],
      "text/plain": [
       "       Model  Displ  Cyl       Trans Drive      Fuel Cert Region       Stnd  \\\n",
       "0  ACURA RDX    3.5  6.0  SemiAuto-6   2WD  Gasoline          FA     T3B125   \n",
       "1  ACURA RDX    3.5  6.0  SemiAuto-6   2WD  Gasoline          CA         U2   \n",
       "2  ACURA RDX    3.5  6.0  SemiAuto-6   4WD  Gasoline          FA     T3B125   \n",
       "3  ACURA RDX    3.5  6.0  SemiAuto-6   4WD  Gasoline          CA         U2   \n",
       "4  ACURA TLX    2.4  4.0       AMS-8   2WD  Gasoline          CA  L3ULEV125   \n",
       "\n",
       "             Stnd Description  Underhood ID  Veh Class  Air Pollution Score  \\\n",
       "0      Federal Tier 3 Bin 125  JHNXT03.5GV3  small SUV                    3   \n",
       "1      California LEV-II ULEV  JHNXT03.5GV3  small SUV                    3   \n",
       "2      Federal Tier 3 Bin 125  JHNXT03.5GV3  small SUV                    3   \n",
       "3      California LEV-II ULEV  JHNXT03.5GV3  small SUV                    3   \n",
       "4  California LEV-III ULEV125  JHNXV02.4WH3  small car                    3   \n",
       "\n",
       "  City MPG Hwy MPG Cmb MPG  Greenhouse Gas Score SmartWay Comb CO2  \n",
       "0       20      28      23                     5       No      386  \n",
       "1       20      28      23                     5       No      386  \n",
       "2       19      27      22                     4       No      402  \n",
       "3       19      27      22                     4       No      402  \n",
       "4       23      33      27                     6       No      330  "
      ]
     },
     "execution_count": 4,
     "metadata": {},
     "output_type": "execute_result"
    }
   ],
   "source": [
    "b.head()"
   ]
  },
  {
   "cell_type": "code",
   "execution_count": 9,
   "metadata": {},
   "outputs": [
    {
     "data": {
      "text/plain": [
       "(2404, 18)"
      ]
     },
     "execution_count": 9,
     "metadata": {},
     "output_type": "execute_result"
    }
   ],
   "source": [
    "a.shape"
   ]
  },
  {
   "cell_type": "code",
   "execution_count": 10,
   "metadata": {},
   "outputs": [
    {
     "data": {
      "text/plain": [
       "(1611, 18)"
      ]
     },
     "execution_count": 10,
     "metadata": {},
     "output_type": "execute_result"
    }
   ],
   "source": [
    "b.shape"
   ]
  },
  {
   "cell_type": "code",
   "execution_count": 12,
   "metadata": {},
   "outputs": [
    {
     "name": "stdout",
     "output_type": "stream",
     "text": [
      "<class 'pandas.core.frame.DataFrame'>\n",
      "RangeIndex: 2404 entries, 0 to 2403\n",
      "Data columns (total 18 columns):\n",
      "Model                   2404 non-null object\n",
      "Displ                   2404 non-null float64\n",
      "Cyl                     2205 non-null object\n",
      "Trans                   2205 non-null object\n",
      "Drive                   2311 non-null object\n",
      "Fuel                    2404 non-null object\n",
      "Sales Area              2404 non-null object\n",
      "Stnd                    2404 non-null object\n",
      "Underhood ID            2404 non-null object\n",
      "Veh Class               2404 non-null object\n",
      "Air Pollution Score     2404 non-null object\n",
      "FE Calc Appr            2205 non-null object\n",
      "City MPG                2205 non-null object\n",
      "Hwy MPG                 2205 non-null object\n",
      "Cmb MPG                 2205 non-null object\n",
      "Unadj Cmb MPG           2205 non-null float64\n",
      "Greenhouse Gas Score    2205 non-null object\n",
      "SmartWay                2404 non-null object\n",
      "dtypes: float64(2), object(16)\n",
      "memory usage: 338.1+ KB\n"
     ]
    }
   ],
   "source": [
    "a.info()"
   ]
  },
  {
   "cell_type": "code",
   "execution_count": 13,
   "metadata": {},
   "outputs": [
    {
     "name": "stdout",
     "output_type": "stream",
     "text": [
      "<class 'pandas.core.frame.DataFrame'>\n",
      "RangeIndex: 1611 entries, 0 to 1610\n",
      "Data columns (total 18 columns):\n",
      "Model                   1611 non-null object\n",
      "Displ                   1609 non-null float64\n",
      "Cyl                     1609 non-null float64\n",
      "Trans                   1611 non-null object\n",
      "Drive                   1611 non-null object\n",
      "Fuel                    1611 non-null object\n",
      "Cert Region             1611 non-null object\n",
      "Stnd                    1611 non-null object\n",
      "Stnd Description        1611 non-null object\n",
      "Underhood ID            1611 non-null object\n",
      "Veh Class               1611 non-null object\n",
      "Air Pollution Score     1611 non-null int64\n",
      "City MPG                1611 non-null object\n",
      "Hwy MPG                 1611 non-null object\n",
      "Cmb MPG                 1611 non-null object\n",
      "Greenhouse Gas Score    1611 non-null int64\n",
      "SmartWay                1611 non-null object\n",
      "Comb CO2                1611 non-null object\n",
      "dtypes: float64(2), int64(2), object(14)\n",
      "memory usage: 226.6+ KB\n"
     ]
    }
   ],
   "source": [
    "b.info()"
   ]
  },
  {
   "cell_type": "code",
   "execution_count": 14,
   "metadata": {},
   "outputs": [
    {
     "data": {
      "text/plain": [
       "Model                    object\n",
       "Displ                   float64\n",
       "Cyl                      object\n",
       "Trans                    object\n",
       "Drive                    object\n",
       "Fuel                     object\n",
       "Sales Area               object\n",
       "Stnd                     object\n",
       "Underhood ID             object\n",
       "Veh Class                object\n",
       "Air Pollution Score      object\n",
       "FE Calc Appr             object\n",
       "City MPG                 object\n",
       "Hwy MPG                  object\n",
       "Cmb MPG                  object\n",
       "Unadj Cmb MPG           float64\n",
       "Greenhouse Gas Score     object\n",
       "SmartWay                 object\n",
       "dtype: object"
      ]
     },
     "execution_count": 14,
     "metadata": {},
     "output_type": "execute_result"
    }
   ],
   "source": [
    "a.dtypes"
   ]
  },
  {
   "cell_type": "code",
   "execution_count": 15,
   "metadata": {},
   "outputs": [
    {
     "data": {
      "text/plain": [
       "Model                    object\n",
       "Displ                   float64\n",
       "Cyl                     float64\n",
       "Trans                    object\n",
       "Drive                    object\n",
       "Fuel                     object\n",
       "Cert Region              object\n",
       "Stnd                     object\n",
       "Stnd Description         object\n",
       "Underhood ID             object\n",
       "Veh Class                object\n",
       "Air Pollution Score       int64\n",
       "City MPG                 object\n",
       "Hwy MPG                  object\n",
       "Cmb MPG                  object\n",
       "Greenhouse Gas Score      int64\n",
       "SmartWay                 object\n",
       "Comb CO2                 object\n",
       "dtype: object"
      ]
     },
     "execution_count": 15,
     "metadata": {},
     "output_type": "execute_result"
    }
   ],
   "source": [
    "b.dtypes"
   ]
  },
  {
   "cell_type": "code",
   "execution_count": 16,
   "metadata": {},
   "outputs": [
    {
     "data": {
      "text/html": [
       "<div>\n",
       "<style scoped>\n",
       "    .dataframe tbody tr th:only-of-type {\n",
       "        vertical-align: middle;\n",
       "    }\n",
       "\n",
       "    .dataframe tbody tr th {\n",
       "        vertical-align: top;\n",
       "    }\n",
       "\n",
       "    .dataframe thead th {\n",
       "        text-align: right;\n",
       "    }\n",
       "</style>\n",
       "<table border=\"1\" class=\"dataframe\">\n",
       "  <thead>\n",
       "    <tr style=\"text-align: right;\">\n",
       "      <th></th>\n",
       "      <th>Displ</th>\n",
       "      <th>Unadj Cmb MPG</th>\n",
       "    </tr>\n",
       "  </thead>\n",
       "  <tbody>\n",
       "    <tr>\n",
       "      <th>count</th>\n",
       "      <td>2404.000000</td>\n",
       "      <td>2205.000000</td>\n",
       "    </tr>\n",
       "    <tr>\n",
       "      <th>mean</th>\n",
       "      <td>3.748918</td>\n",
       "      <td>23.916104</td>\n",
       "    </tr>\n",
       "    <tr>\n",
       "      <th>std</th>\n",
       "      <td>1.335785</td>\n",
       "      <td>6.366170</td>\n",
       "    </tr>\n",
       "    <tr>\n",
       "      <th>min</th>\n",
       "      <td>1.300000</td>\n",
       "      <td>10.018400</td>\n",
       "    </tr>\n",
       "    <tr>\n",
       "      <th>25%</th>\n",
       "      <td>2.500000</td>\n",
       "      <td>19.113900</td>\n",
       "    </tr>\n",
       "    <tr>\n",
       "      <th>50%</th>\n",
       "      <td>3.500000</td>\n",
       "      <td>23.921300</td>\n",
       "    </tr>\n",
       "    <tr>\n",
       "      <th>75%</th>\n",
       "      <td>4.800000</td>\n",
       "      <td>27.869300</td>\n",
       "    </tr>\n",
       "    <tr>\n",
       "      <th>max</th>\n",
       "      <td>8.400000</td>\n",
       "      <td>65.777800</td>\n",
       "    </tr>\n",
       "  </tbody>\n",
       "</table>\n",
       "</div>"
      ],
      "text/plain": [
       "             Displ  Unadj Cmb MPG\n",
       "count  2404.000000    2205.000000\n",
       "mean      3.748918      23.916104\n",
       "std       1.335785       6.366170\n",
       "min       1.300000      10.018400\n",
       "25%       2.500000      19.113900\n",
       "50%       3.500000      23.921300\n",
       "75%       4.800000      27.869300\n",
       "max       8.400000      65.777800"
      ]
     },
     "execution_count": 16,
     "metadata": {},
     "output_type": "execute_result"
    }
   ],
   "source": [
    "a.describe()"
   ]
  },
  {
   "cell_type": "code",
   "execution_count": 18,
   "metadata": {},
   "outputs": [
    {
     "data": {
      "text/html": [
       "<div>\n",
       "<style scoped>\n",
       "    .dataframe tbody tr th:only-of-type {\n",
       "        vertical-align: middle;\n",
       "    }\n",
       "\n",
       "    .dataframe tbody tr th {\n",
       "        vertical-align: top;\n",
       "    }\n",
       "\n",
       "    .dataframe thead th {\n",
       "        text-align: right;\n",
       "    }\n",
       "</style>\n",
       "<table border=\"1\" class=\"dataframe\">\n",
       "  <thead>\n",
       "    <tr style=\"text-align: right;\">\n",
       "      <th></th>\n",
       "      <th>Displ</th>\n",
       "      <th>Cyl</th>\n",
       "      <th>Air Pollution Score</th>\n",
       "      <th>Greenhouse Gas Score</th>\n",
       "    </tr>\n",
       "  </thead>\n",
       "  <tbody>\n",
       "    <tr>\n",
       "      <th>count</th>\n",
       "      <td>1609.000000</td>\n",
       "      <td>1609.000000</td>\n",
       "      <td>1611.000000</td>\n",
       "      <td>1611.000000</td>\n",
       "    </tr>\n",
       "    <tr>\n",
       "      <th>mean</th>\n",
       "      <td>3.055687</td>\n",
       "      <td>5.479180</td>\n",
       "      <td>3.958411</td>\n",
       "      <td>4.711359</td>\n",
       "    </tr>\n",
       "    <tr>\n",
       "      <th>std</th>\n",
       "      <td>1.344574</td>\n",
       "      <td>1.749121</td>\n",
       "      <td>1.824303</td>\n",
       "      <td>1.657429</td>\n",
       "    </tr>\n",
       "    <tr>\n",
       "      <th>min</th>\n",
       "      <td>1.200000</td>\n",
       "      <td>3.000000</td>\n",
       "      <td>1.000000</td>\n",
       "      <td>1.000000</td>\n",
       "    </tr>\n",
       "    <tr>\n",
       "      <th>25%</th>\n",
       "      <td>2.000000</td>\n",
       "      <td>4.000000</td>\n",
       "      <td>3.000000</td>\n",
       "      <td>4.000000</td>\n",
       "    </tr>\n",
       "    <tr>\n",
       "      <th>50%</th>\n",
       "      <td>3.000000</td>\n",
       "      <td>6.000000</td>\n",
       "      <td>3.000000</td>\n",
       "      <td>5.000000</td>\n",
       "    </tr>\n",
       "    <tr>\n",
       "      <th>75%</th>\n",
       "      <td>3.600000</td>\n",
       "      <td>6.000000</td>\n",
       "      <td>5.000000</td>\n",
       "      <td>6.000000</td>\n",
       "    </tr>\n",
       "    <tr>\n",
       "      <th>max</th>\n",
       "      <td>8.000000</td>\n",
       "      <td>16.000000</td>\n",
       "      <td>10.000000</td>\n",
       "      <td>10.000000</td>\n",
       "    </tr>\n",
       "  </tbody>\n",
       "</table>\n",
       "</div>"
      ],
      "text/plain": [
       "             Displ          Cyl  Air Pollution Score  Greenhouse Gas Score\n",
       "count  1609.000000  1609.000000          1611.000000           1611.000000\n",
       "mean      3.055687     5.479180             3.958411              4.711359\n",
       "std       1.344574     1.749121             1.824303              1.657429\n",
       "min       1.200000     3.000000             1.000000              1.000000\n",
       "25%       2.000000     4.000000             3.000000              4.000000\n",
       "50%       3.000000     6.000000             3.000000              5.000000\n",
       "75%       3.600000     6.000000             5.000000              6.000000\n",
       "max       8.000000    16.000000            10.000000             10.000000"
      ]
     },
     "execution_count": 18,
     "metadata": {},
     "output_type": "execute_result"
    }
   ],
   "source": [
    "b.describe()"
   ]
  },
  {
   "cell_type": "code",
   "execution_count": 19,
   "metadata": {},
   "outputs": [
    {
     "data": {
      "text/plain": [
       "Model                   436\n",
       "Displ                    47\n",
       "Cyl                       8\n",
       "Trans                    14\n",
       "Drive                     2\n",
       "Fuel                      5\n",
       "Sales Area                3\n",
       "Stnd                     12\n",
       "Underhood ID            343\n",
       "Veh Class                 9\n",
       "Air Pollution Score      13\n",
       "FE Calc Appr              2\n",
       "City MPG                 39\n",
       "Hwy MPG                  43\n",
       "Cmb MPG                  38\n",
       "Unadj Cmb MPG           721\n",
       "Greenhouse Gas Score     20\n",
       "SmartWay                  2\n",
       "dtype: int64"
      ]
     },
     "execution_count": 19,
     "metadata": {},
     "output_type": "execute_result"
    }
   ],
   "source": [
    "a.nunique()"
   ]
  },
  {
   "cell_type": "code",
   "execution_count": 20,
   "metadata": {},
   "outputs": [
    {
     "data": {
      "text/plain": [
       "Model                   367\n",
       "Displ                    36\n",
       "Cyl                       7\n",
       "Trans                    26\n",
       "Drive                     2\n",
       "Fuel                      5\n",
       "Cert Region               2\n",
       "Stnd                     19\n",
       "Stnd Description         19\n",
       "Underhood ID            230\n",
       "Veh Class                 9\n",
       "Air Pollution Score       6\n",
       "City MPG                 58\n",
       "Hwy MPG                  62\n",
       "Cmb MPG                  57\n",
       "Greenhouse Gas Score     10\n",
       "SmartWay                  3\n",
       "Comb CO2                299\n",
       "dtype: int64"
      ]
     },
     "execution_count": 20,
     "metadata": {},
     "output_type": "execute_result"
    }
   ],
   "source": [
    "b.nunique()"
   ]
  },
  {
   "cell_type": "code",
   "execution_count": 27,
   "metadata": {},
   "outputs": [
    {
     "data": {
      "text/plain": [
       "25"
      ]
     },
     "execution_count": 27,
     "metadata": {},
     "output_type": "execute_result"
    }
   ],
   "source": [
    "sum(a.duplicated())"
   ]
  },
  {
   "cell_type": "code",
   "execution_count": 28,
   "metadata": {},
   "outputs": [
    {
     "data": {
      "text/plain": [
       "0"
      ]
     },
     "execution_count": 28,
     "metadata": {},
     "output_type": "execute_result"
    }
   ],
   "source": [
    "sum(b.duplicated())"
   ]
  },
  {
   "cell_type": "markdown",
   "metadata": {},
   "source": [
    "## Cleaning Data"
   ]
  },
  {
   "cell_type": "markdown",
   "metadata": {},
   "source": [
    "<h3>Dropping Columns </h3>"
   ]
  },
  {
   "cell_type": "markdown",
   "metadata": {},
   "source": [
    "We will have to drop a few columns that are extra, that arent required by us,that arent present in both datasets. We will be using pandas drop function to drop them"
   ]
  },
  {
   "cell_type": "code",
   "execution_count": 32,
   "metadata": {},
   "outputs": [],
   "source": [
    "a.drop(['Stnd','Unadj Cmb MPG','Underhood ID','FE Calc Appr'],axis=1,inplace=True)"
   ]
  },
  {
   "cell_type": "code",
   "execution_count": 33,
   "metadata": {},
   "outputs": [],
   "source": [
    "b.drop([ 'Stnd', 'Stnd Description', 'Underhood ID', 'Comb CO2'],axis=1,inplace=True)"
   ]
  },
  {
   "cell_type": "markdown",
   "metadata": {},
   "source": [
    "<h3>Renaming Columns</h3>"
   ]
  },
  {
   "cell_type": "markdown",
   "metadata": {},
   "source": [
    "Now we will rename Sales Area columns so that all columns are same in first and second dataset.We will also add a underscore for our ease and convert all column labels to the lowercase."
   ]
  },
  {
   "cell_type": "code",
   "execution_count": 41,
   "metadata": {},
   "outputs": [],
   "source": [
    "a.rename(columns={'Sales Area':'Cert Region'},inplace=True)"
   ]
  },
  {
   "cell_type": "code",
   "execution_count": 44,
   "metadata": {},
   "outputs": [],
   "source": [
    "a.rename(columns=lambda x:x.strip().lower().replace(\" \",\"_\"),inplace=True)\n",
    "b.rename(columns=lambda x:x.strip().lower().replace(\" \",\"_\"),inplace=True)"
   ]
  },
  {
   "cell_type": "code",
   "execution_count": 45,
   "metadata": {},
   "outputs": [
    {
     "data": {
      "text/html": [
       "<div>\n",
       "<style scoped>\n",
       "    .dataframe tbody tr th:only-of-type {\n",
       "        vertical-align: middle;\n",
       "    }\n",
       "\n",
       "    .dataframe tbody tr th {\n",
       "        vertical-align: top;\n",
       "    }\n",
       "\n",
       "    .dataframe thead th {\n",
       "        text-align: right;\n",
       "    }\n",
       "</style>\n",
       "<table border=\"1\" class=\"dataframe\">\n",
       "  <thead>\n",
       "    <tr style=\"text-align: right;\">\n",
       "      <th></th>\n",
       "      <th>model</th>\n",
       "      <th>displ</th>\n",
       "      <th>cyl</th>\n",
       "      <th>trans</th>\n",
       "      <th>drive</th>\n",
       "      <th>fuel</th>\n",
       "      <th>cert_region</th>\n",
       "      <th>veh_class</th>\n",
       "      <th>air_pollution_score</th>\n",
       "      <th>city_mpg</th>\n",
       "      <th>hwy_mpg</th>\n",
       "      <th>cmb_mpg</th>\n",
       "      <th>greenhouse_gas_score</th>\n",
       "      <th>smartway</th>\n",
       "    </tr>\n",
       "  </thead>\n",
       "  <tbody>\n",
       "    <tr>\n",
       "      <th>0</th>\n",
       "      <td>ACURA MDX</td>\n",
       "      <td>3.7</td>\n",
       "      <td>(6 cyl)</td>\n",
       "      <td>Auto-S5</td>\n",
       "      <td>4WD</td>\n",
       "      <td>Gasoline</td>\n",
       "      <td>CA</td>\n",
       "      <td>SUV</td>\n",
       "      <td>7</td>\n",
       "      <td>15</td>\n",
       "      <td>20</td>\n",
       "      <td>17</td>\n",
       "      <td>4</td>\n",
       "      <td>no</td>\n",
       "    </tr>\n",
       "  </tbody>\n",
       "</table>\n",
       "</div>"
      ],
      "text/plain": [
       "       model  displ      cyl    trans drive      fuel cert_region veh_class  \\\n",
       "0  ACURA MDX    3.7  (6 cyl)  Auto-S5   4WD  Gasoline          CA       SUV   \n",
       "\n",
       "  air_pollution_score city_mpg hwy_mpg cmb_mpg greenhouse_gas_score smartway  \n",
       "0                   7       15      20      17                    4       no  "
      ]
     },
     "execution_count": 45,
     "metadata": {},
     "output_type": "execute_result"
    }
   ],
   "source": [
    "a.head(1)"
   ]
  },
  {
   "cell_type": "code",
   "execution_count": 46,
   "metadata": {},
   "outputs": [
    {
     "data": {
      "text/html": [
       "<div>\n",
       "<style scoped>\n",
       "    .dataframe tbody tr th:only-of-type {\n",
       "        vertical-align: middle;\n",
       "    }\n",
       "\n",
       "    .dataframe tbody tr th {\n",
       "        vertical-align: top;\n",
       "    }\n",
       "\n",
       "    .dataframe thead th {\n",
       "        text-align: right;\n",
       "    }\n",
       "</style>\n",
       "<table border=\"1\" class=\"dataframe\">\n",
       "  <thead>\n",
       "    <tr style=\"text-align: right;\">\n",
       "      <th></th>\n",
       "      <th>model</th>\n",
       "      <th>displ</th>\n",
       "      <th>cyl</th>\n",
       "      <th>trans</th>\n",
       "      <th>drive</th>\n",
       "      <th>fuel</th>\n",
       "      <th>cert_region</th>\n",
       "      <th>veh_class</th>\n",
       "      <th>air_pollution_score</th>\n",
       "      <th>city_mpg</th>\n",
       "      <th>hwy_mpg</th>\n",
       "      <th>cmb_mpg</th>\n",
       "      <th>greenhouse_gas_score</th>\n",
       "      <th>smartway</th>\n",
       "    </tr>\n",
       "  </thead>\n",
       "  <tbody>\n",
       "    <tr>\n",
       "      <th>0</th>\n",
       "      <td>ACURA RDX</td>\n",
       "      <td>3.5</td>\n",
       "      <td>6.0</td>\n",
       "      <td>SemiAuto-6</td>\n",
       "      <td>2WD</td>\n",
       "      <td>Gasoline</td>\n",
       "      <td>FA</td>\n",
       "      <td>small SUV</td>\n",
       "      <td>3</td>\n",
       "      <td>20</td>\n",
       "      <td>28</td>\n",
       "      <td>23</td>\n",
       "      <td>5</td>\n",
       "      <td>No</td>\n",
       "    </tr>\n",
       "  </tbody>\n",
       "</table>\n",
       "</div>"
      ],
      "text/plain": [
       "       model  displ  cyl       trans drive      fuel cert_region  veh_class  \\\n",
       "0  ACURA RDX    3.5  6.0  SemiAuto-6   2WD  Gasoline          FA  small SUV   \n",
       "\n",
       "   air_pollution_score city_mpg hwy_mpg cmb_mpg  greenhouse_gas_score smartway  \n",
       "0                    3       20      28      23                     5       No  "
      ]
     },
     "execution_count": 46,
     "metadata": {},
     "output_type": "execute_result"
    }
   ],
   "source": [
    "b.head(1)"
   ]
  },
  {
   "cell_type": "markdown",
   "metadata": {},
   "source": [
    "<h4><i><p style=\"font-size:18px\">For consistency we will compare only those with cert region as CA(California). So we will filter it out and then drop cert_region column as it would be of no use.We will also drop duplicate row and null values from both the datasets. </p></i></h4>"
   ]
  },
  {
   "cell_type": "markdown",
   "metadata": {},
   "source": [
    "We can filter by two methods as shown below:"
   ]
  },
  {
   "cell_type": "code",
   "execution_count": 52,
   "metadata": {},
   "outputs": [],
   "source": [
    "a=a[a['cert_region']=='CA']\n",
    "b.query('cert_region==\"CA\"',inplace=True)"
   ]
  },
  {
   "cell_type": "code",
   "execution_count": 55,
   "metadata": {},
   "outputs": [],
   "source": [
    "a.drop(columns='cert_region',axis=1,inplace=True)\n",
    "b.drop(columns='cert_region',axis=1,inplace=True)\n"
   ]
  },
  {
   "cell_type": "code",
   "execution_count": 57,
   "metadata": {},
   "outputs": [
    {
     "data": {
      "text/plain": [
       "(1084, 13)"
      ]
     },
     "execution_count": 57,
     "metadata": {},
     "output_type": "execute_result"
    }
   ],
   "source": [
    "a.shape"
   ]
  },
  {
   "cell_type": "code",
   "execution_count": 58,
   "metadata": {},
   "outputs": [
    {
     "data": {
      "text/plain": [
       "(798, 13)"
      ]
     },
     "execution_count": 58,
     "metadata": {},
     "output_type": "execute_result"
    }
   ],
   "source": [
    "b.shape"
   ]
  },
  {
   "cell_type": "code",
   "execution_count": 61,
   "metadata": {},
   "outputs": [
    {
     "data": {
      "text/plain": [
       "model                    0\n",
       "displ                    0\n",
       "cyl                     75\n",
       "trans                   75\n",
       "drive                   37\n",
       "fuel                     0\n",
       "veh_class                0\n",
       "air_pollution_score      0\n",
       "city_mpg                75\n",
       "hwy_mpg                 75\n",
       "cmb_mpg                 75\n",
       "greenhouse_gas_score    75\n",
       "smartway                 0\n",
       "dtype: int64"
      ]
     },
     "execution_count": 61,
     "metadata": {},
     "output_type": "execute_result"
    }
   ],
   "source": [
    "a.isnull().sum()"
   ]
  },
  {
   "cell_type": "code",
   "execution_count": 63,
   "metadata": {},
   "outputs": [
    {
     "data": {
      "text/plain": [
       "model                   0\n",
       "displ                   1\n",
       "cyl                     1\n",
       "trans                   0\n",
       "drive                   0\n",
       "fuel                    0\n",
       "veh_class               0\n",
       "air_pollution_score     0\n",
       "city_mpg                0\n",
       "hwy_mpg                 0\n",
       "cmb_mpg                 0\n",
       "greenhouse_gas_score    0\n",
       "smartway                0\n",
       "dtype: int64"
      ]
     },
     "execution_count": 63,
     "metadata": {},
     "output_type": "execute_result"
    }
   ],
   "source": [
    "b.isnull().sum()"
   ]
  },
  {
   "cell_type": "code",
   "execution_count": 64,
   "metadata": {},
   "outputs": [],
   "source": [
    "a.dropna(inplace=True)"
   ]
  },
  {
   "cell_type": "code",
   "execution_count": 65,
   "metadata": {},
   "outputs": [],
   "source": [
    "b.dropna(inplace=True)"
   ]
  },
  {
   "cell_type": "code",
   "execution_count": 67,
   "metadata": {},
   "outputs": [
    {
     "data": {
      "text/plain": [
       "model                   0\n",
       "displ                   0\n",
       "cyl                     0\n",
       "trans                   0\n",
       "drive                   0\n",
       "fuel                    0\n",
       "veh_class               0\n",
       "air_pollution_score     0\n",
       "city_mpg                0\n",
       "hwy_mpg                 0\n",
       "cmb_mpg                 0\n",
       "greenhouse_gas_score    0\n",
       "smartway                0\n",
       "dtype: int64"
      ]
     },
     "execution_count": 67,
     "metadata": {},
     "output_type": "execute_result"
    }
   ],
   "source": [
    "#Just to confirm\n",
    "a.isnull().sum()"
   ]
  },
  {
   "cell_type": "code",
   "execution_count": 68,
   "metadata": {},
   "outputs": [
    {
     "data": {
      "text/plain": [
       "23"
      ]
     },
     "execution_count": 68,
     "metadata": {},
     "output_type": "execute_result"
    }
   ],
   "source": [
    "a.duplicated().sum()"
   ]
  },
  {
   "cell_type": "code",
   "execution_count": 69,
   "metadata": {},
   "outputs": [
    {
     "data": {
      "text/plain": [
       "3"
      ]
     },
     "execution_count": 69,
     "metadata": {},
     "output_type": "execute_result"
    }
   ],
   "source": [
    "b.duplicated().sum()"
   ]
  },
  {
   "cell_type": "code",
   "execution_count": 70,
   "metadata": {},
   "outputs": [],
   "source": [
    "a.drop_duplicates(inplace=True)\n",
    "b.drop_duplicates(inplace=True)"
   ]
  },
  {
   "cell_type": "code",
   "execution_count": 72,
   "metadata": {},
   "outputs": [
    {
     "data": {
      "text/plain": [
       "(986, 13)"
      ]
     },
     "execution_count": 72,
     "metadata": {},
     "output_type": "execute_result"
    }
   ],
   "source": [
    "a.shape\n"
   ]
  },
  {
   "cell_type": "markdown",
   "metadata": {},
   "source": [
    "<h3> After dropping null and duplicated rows it's now time to fix the datatypes </h3>"
   ]
  },
  {
   "cell_type": "markdown",
   "metadata": {},
   "source": [
    "<li style=\"font-size:18px;\">CYL datatype</li>"
   ]
  },
  {
   "cell_type": "code",
   "execution_count": 73,
   "metadata": {},
   "outputs": [
    {
     "data": {
      "text/plain": [
       "(6 cyl)     409\n",
       "(4 cyl)     283\n",
       "(8 cyl)     199\n",
       "(5 cyl)      48\n",
       "(12 cyl)     30\n",
       "(10 cyl)     14\n",
       "(2 cyl)       2\n",
       "(16 cyl)      1\n",
       "Name: cyl, dtype: int64"
      ]
     },
     "execution_count": 73,
     "metadata": {},
     "output_type": "execute_result"
    }
   ],
   "source": [
    "a['cyl'].value_counts()"
   ]
  },
  {
   "cell_type": "code",
   "execution_count": 75,
   "metadata": {},
   "outputs": [],
   "source": [
    "a['cyl']=a['cyl'].str.extract('(\\d+)').astype(int)"
   ]
  },
  {
   "cell_type": "code",
   "execution_count": 77,
   "metadata": {},
   "outputs": [],
   "source": [
    "b['cyl']=b['cyl'].astype(int)"
   ]
  },
  {
   "cell_type": "code",
   "execution_count": 79,
   "metadata": {},
   "outputs": [
    {
     "name": "stdout",
     "output_type": "stream",
     "text": [
      "<class 'pandas.core.frame.DataFrame'>\n",
      "Int64Index: 794 entries, 1 to 1609\n",
      "Data columns (total 13 columns):\n",
      "model                   794 non-null object\n",
      "displ                   794 non-null float64\n",
      "cyl                     794 non-null int64\n",
      "trans                   794 non-null object\n",
      "drive                   794 non-null object\n",
      "fuel                    794 non-null object\n",
      "veh_class               794 non-null object\n",
      "air_pollution_score     794 non-null int64\n",
      "city_mpg                794 non-null object\n",
      "hwy_mpg                 794 non-null object\n",
      "cmb_mpg                 794 non-null object\n",
      "greenhouse_gas_score    794 non-null int64\n",
      "smartway                794 non-null object\n",
      "dtypes: float64(1), int64(3), object(9)\n",
      "memory usage: 86.8+ KB\n"
     ]
    }
   ],
   "source": [
    "#Just to confirm\n",
    "b.info()"
   ]
  },
  {
   "cell_type": "markdown",
   "metadata": {},
   "source": [
    "<h2 style=\"color:red\">There seems to be a problem</h2>\n",
    "<p style=\"font-size:17px;\">In this Dataset we have many values that seem to be hybrid values(more than one fuel types) i.e. Fuel is Gas/Ethanol and similarly few attributes are in this format. We need to fix it.</p>"
   ]
  },
  {
   "cell_type": "code",
   "execution_count": 84,
   "metadata": {},
   "outputs": [
    {
     "data": {
      "text/html": [
       "<div>\n",
       "<style scoped>\n",
       "    .dataframe tbody tr th:only-of-type {\n",
       "        vertical-align: middle;\n",
       "    }\n",
       "\n",
       "    .dataframe tbody tr th {\n",
       "        vertical-align: top;\n",
       "    }\n",
       "\n",
       "    .dataframe thead th {\n",
       "        text-align: right;\n",
       "    }\n",
       "</style>\n",
       "<table border=\"1\" class=\"dataframe\">\n",
       "  <thead>\n",
       "    <tr style=\"text-align: right;\">\n",
       "      <th></th>\n",
       "      <th>model</th>\n",
       "      <th>displ</th>\n",
       "      <th>cyl</th>\n",
       "      <th>trans</th>\n",
       "      <th>drive</th>\n",
       "      <th>fuel</th>\n",
       "      <th>veh_class</th>\n",
       "      <th>air_pollution_score</th>\n",
       "      <th>city_mpg</th>\n",
       "      <th>hwy_mpg</th>\n",
       "      <th>cmb_mpg</th>\n",
       "      <th>greenhouse_gas_score</th>\n",
       "      <th>smartway</th>\n",
       "    </tr>\n",
       "  </thead>\n",
       "  <tbody>\n",
       "    <tr>\n",
       "      <th>1550</th>\n",
       "      <td>MERCEDES-BENZ C300</td>\n",
       "      <td>3.0</td>\n",
       "      <td>6</td>\n",
       "      <td>Auto-L7</td>\n",
       "      <td>2WD</td>\n",
       "      <td>ethanol/gas</td>\n",
       "      <td>small car</td>\n",
       "      <td>6/4</td>\n",
       "      <td>13/18</td>\n",
       "      <td>19/25</td>\n",
       "      <td>15/21</td>\n",
       "      <td>7/6</td>\n",
       "      <td>no</td>\n",
       "    </tr>\n",
       "  </tbody>\n",
       "</table>\n",
       "</div>"
      ],
      "text/plain": [
       "                   model  displ  cyl    trans drive         fuel  veh_class  \\\n",
       "1550  MERCEDES-BENZ C300    3.0    6  Auto-L7   2WD  ethanol/gas  small car   \n",
       "\n",
       "     air_pollution_score city_mpg hwy_mpg cmb_mpg greenhouse_gas_score  \\\n",
       "1550                 6/4    13/18   19/25   15/21                  7/6   \n",
       "\n",
       "     smartway  \n",
       "1550       no  "
      ]
     },
     "execution_count": 84,
     "metadata": {},
     "output_type": "execute_result"
    }
   ],
   "source": [
    "#For Example\n",
    "a[a['air_pollution_score']=='6/4']"
   ]
  },
  {
   "cell_type": "code",
   "execution_count": 89,
   "metadata": {},
   "outputs": [],
   "source": [
    "hb_08=a[a['fuel'].str.contains('/')]"
   ]
  },
  {
   "cell_type": "code",
   "execution_count": 90,
   "metadata": {},
   "outputs": [],
   "source": [
    "hb_18=b[b['fuel'].str.contains('/')]"
   ]
  },
  {
   "cell_type": "code",
   "execution_count": 91,
   "metadata": {},
   "outputs": [
    {
     "data": {
      "text/html": [
       "<div>\n",
       "<style scoped>\n",
       "    .dataframe tbody tr th:only-of-type {\n",
       "        vertical-align: middle;\n",
       "    }\n",
       "\n",
       "    .dataframe tbody tr th {\n",
       "        vertical-align: top;\n",
       "    }\n",
       "\n",
       "    .dataframe thead th {\n",
       "        text-align: right;\n",
       "    }\n",
       "</style>\n",
       "<table border=\"1\" class=\"dataframe\">\n",
       "  <thead>\n",
       "    <tr style=\"text-align: right;\">\n",
       "      <th></th>\n",
       "      <th>model</th>\n",
       "      <th>displ</th>\n",
       "      <th>cyl</th>\n",
       "      <th>trans</th>\n",
       "      <th>drive</th>\n",
       "      <th>fuel</th>\n",
       "      <th>veh_class</th>\n",
       "      <th>air_pollution_score</th>\n",
       "      <th>city_mpg</th>\n",
       "      <th>hwy_mpg</th>\n",
       "      <th>cmb_mpg</th>\n",
       "      <th>greenhouse_gas_score</th>\n",
       "      <th>smartway</th>\n",
       "    </tr>\n",
       "  </thead>\n",
       "  <tbody>\n",
       "    <tr>\n",
       "      <th>1550</th>\n",
       "      <td>MERCEDES-BENZ C300</td>\n",
       "      <td>3.0</td>\n",
       "      <td>6</td>\n",
       "      <td>Auto-L7</td>\n",
       "      <td>2WD</td>\n",
       "      <td>ethanol/gas</td>\n",
       "      <td>small car</td>\n",
       "      <td>6/4</td>\n",
       "      <td>13/18</td>\n",
       "      <td>19/25</td>\n",
       "      <td>15/21</td>\n",
       "      <td>7/6</td>\n",
       "      <td>no</td>\n",
       "    </tr>\n",
       "  </tbody>\n",
       "</table>\n",
       "</div>"
      ],
      "text/plain": [
       "                   model  displ  cyl    trans drive         fuel  veh_class  \\\n",
       "1550  MERCEDES-BENZ C300    3.0    6  Auto-L7   2WD  ethanol/gas  small car   \n",
       "\n",
       "     air_pollution_score city_mpg hwy_mpg cmb_mpg greenhouse_gas_score  \\\n",
       "1550                 6/4    13/18   19/25   15/21                  7/6   \n",
       "\n",
       "     smartway  \n",
       "1550       no  "
      ]
     },
     "execution_count": 91,
     "metadata": {},
     "output_type": "execute_result"
    }
   ],
   "source": [
    "hb_08"
   ]
  },
  {
   "cell_type": "code",
   "execution_count": 92,
   "metadata": {
    "scrolled": true
   },
   "outputs": [
    {
     "data": {
      "text/html": [
       "<div>\n",
       "<style scoped>\n",
       "    .dataframe tbody tr th:only-of-type {\n",
       "        vertical-align: middle;\n",
       "    }\n",
       "\n",
       "    .dataframe tbody tr th {\n",
       "        vertical-align: top;\n",
       "    }\n",
       "\n",
       "    .dataframe thead th {\n",
       "        text-align: right;\n",
       "    }\n",
       "</style>\n",
       "<table border=\"1\" class=\"dataframe\">\n",
       "  <thead>\n",
       "    <tr style=\"text-align: right;\">\n",
       "      <th></th>\n",
       "      <th>model</th>\n",
       "      <th>displ</th>\n",
       "      <th>cyl</th>\n",
       "      <th>trans</th>\n",
       "      <th>drive</th>\n",
       "      <th>fuel</th>\n",
       "      <th>veh_class</th>\n",
       "      <th>air_pollution_score</th>\n",
       "      <th>city_mpg</th>\n",
       "      <th>hwy_mpg</th>\n",
       "      <th>cmb_mpg</th>\n",
       "      <th>greenhouse_gas_score</th>\n",
       "      <th>smartway</th>\n",
       "    </tr>\n",
       "  </thead>\n",
       "  <tbody>\n",
       "    <tr>\n",
       "      <th>108</th>\n",
       "      <td>BMW 330e</td>\n",
       "      <td>2.0</td>\n",
       "      <td>4</td>\n",
       "      <td>SemiAuto-8</td>\n",
       "      <td>2WD</td>\n",
       "      <td>Gasoline/Electricity</td>\n",
       "      <td>small car</td>\n",
       "      <td>3</td>\n",
       "      <td>28/66</td>\n",
       "      <td>34/78</td>\n",
       "      <td>30/71</td>\n",
       "      <td>10</td>\n",
       "      <td>Yes</td>\n",
       "    </tr>\n",
       "    <tr>\n",
       "      <th>160</th>\n",
       "      <td>BMW 530e</td>\n",
       "      <td>2.0</td>\n",
       "      <td>4</td>\n",
       "      <td>SemiAuto-8</td>\n",
       "      <td>2WD</td>\n",
       "      <td>Gasoline/Electricity</td>\n",
       "      <td>small car</td>\n",
       "      <td>7</td>\n",
       "      <td>27/70</td>\n",
       "      <td>31/75</td>\n",
       "      <td>29/72</td>\n",
       "      <td>10</td>\n",
       "      <td>Elite</td>\n",
       "    </tr>\n",
       "    <tr>\n",
       "      <th>162</th>\n",
       "      <td>BMW 530e</td>\n",
       "      <td>2.0</td>\n",
       "      <td>4</td>\n",
       "      <td>SemiAuto-8</td>\n",
       "      <td>4WD</td>\n",
       "      <td>Gasoline/Electricity</td>\n",
       "      <td>small car</td>\n",
       "      <td>7</td>\n",
       "      <td>27/66</td>\n",
       "      <td>31/68</td>\n",
       "      <td>28/67</td>\n",
       "      <td>10</td>\n",
       "      <td>Elite</td>\n",
       "    </tr>\n",
       "    <tr>\n",
       "      <th>188</th>\n",
       "      <td>BMW 740e</td>\n",
       "      <td>2.0</td>\n",
       "      <td>4</td>\n",
       "      <td>SemiAuto-8</td>\n",
       "      <td>4WD</td>\n",
       "      <td>Gasoline/Electricity</td>\n",
       "      <td>large car</td>\n",
       "      <td>3</td>\n",
       "      <td>25/62</td>\n",
       "      <td>29/68</td>\n",
       "      <td>27/64</td>\n",
       "      <td>9</td>\n",
       "      <td>Yes</td>\n",
       "    </tr>\n",
       "    <tr>\n",
       "      <th>382</th>\n",
       "      <td>CHEVROLET Impala</td>\n",
       "      <td>3.6</td>\n",
       "      <td>6</td>\n",
       "      <td>SemiAuto-6</td>\n",
       "      <td>2WD</td>\n",
       "      <td>Ethanol/Gas</td>\n",
       "      <td>large car</td>\n",
       "      <td>5</td>\n",
       "      <td>14/18</td>\n",
       "      <td>20/28</td>\n",
       "      <td>16/22</td>\n",
       "      <td>4</td>\n",
       "      <td>No</td>\n",
       "    </tr>\n",
       "    <tr>\n",
       "      <th>394</th>\n",
       "      <td>CHEVROLET Silverado 15</td>\n",
       "      <td>4.3</td>\n",
       "      <td>6</td>\n",
       "      <td>Auto-6</td>\n",
       "      <td>2WD</td>\n",
       "      <td>Ethanol/Gas</td>\n",
       "      <td>pickup</td>\n",
       "      <td>5</td>\n",
       "      <td>12/18</td>\n",
       "      <td>16/24</td>\n",
       "      <td>14/20</td>\n",
       "      <td>4</td>\n",
       "      <td>No</td>\n",
       "    </tr>\n",
       "    <tr>\n",
       "      <th>396</th>\n",
       "      <td>CHEVROLET Silverado 15</td>\n",
       "      <td>4.3</td>\n",
       "      <td>6</td>\n",
       "      <td>Auto-6</td>\n",
       "      <td>4WD</td>\n",
       "      <td>Ethanol/Gas</td>\n",
       "      <td>pickup</td>\n",
       "      <td>5</td>\n",
       "      <td>12/17</td>\n",
       "      <td>15/22</td>\n",
       "      <td>13/19</td>\n",
       "      <td>3</td>\n",
       "      <td>No</td>\n",
       "    </tr>\n",
       "    <tr>\n",
       "      <th>398</th>\n",
       "      <td>CHEVROLET Silverado 15</td>\n",
       "      <td>5.3</td>\n",
       "      <td>8</td>\n",
       "      <td>Auto-6</td>\n",
       "      <td>2WD</td>\n",
       "      <td>Ethanol/Gas</td>\n",
       "      <td>pickup</td>\n",
       "      <td>3</td>\n",
       "      <td>12/16</td>\n",
       "      <td>17/23</td>\n",
       "      <td>14/19</td>\n",
       "      <td>3</td>\n",
       "      <td>No</td>\n",
       "    </tr>\n",
       "    <tr>\n",
       "      <th>428</th>\n",
       "      <td>CHEVROLET Suburban 1500</td>\n",
       "      <td>5.3</td>\n",
       "      <td>8</td>\n",
       "      <td>Auto-6</td>\n",
       "      <td>2WD</td>\n",
       "      <td>Ethanol/Gas</td>\n",
       "      <td>standard SUV</td>\n",
       "      <td>3</td>\n",
       "      <td>12/16</td>\n",
       "      <td>17/23</td>\n",
       "      <td>14/19</td>\n",
       "      <td>3</td>\n",
       "      <td>No</td>\n",
       "    </tr>\n",
       "    <tr>\n",
       "      <th>432</th>\n",
       "      <td>CHEVROLET Suburban 1500</td>\n",
       "      <td>5.3</td>\n",
       "      <td>8</td>\n",
       "      <td>Auto-6</td>\n",
       "      <td>4WD</td>\n",
       "      <td>Ethanol/Gas</td>\n",
       "      <td>standard SUV</td>\n",
       "      <td>3</td>\n",
       "      <td>11/16</td>\n",
       "      <td>15/22</td>\n",
       "      <td>12/18</td>\n",
       "      <td>3</td>\n",
       "      <td>No</td>\n",
       "    </tr>\n",
       "    <tr>\n",
       "      <th>436</th>\n",
       "      <td>CHEVROLET Tahoe 1500</td>\n",
       "      <td>5.3</td>\n",
       "      <td>8</td>\n",
       "      <td>Auto-6</td>\n",
       "      <td>2WD</td>\n",
       "      <td>Ethanol/Gas</td>\n",
       "      <td>standard SUV</td>\n",
       "      <td>3</td>\n",
       "      <td>12/16</td>\n",
       "      <td>17/23</td>\n",
       "      <td>14/19</td>\n",
       "      <td>3</td>\n",
       "      <td>No</td>\n",
       "    </tr>\n",
       "    <tr>\n",
       "      <th>440</th>\n",
       "      <td>CHEVROLET Tahoe 1500</td>\n",
       "      <td>5.3</td>\n",
       "      <td>8</td>\n",
       "      <td>Auto-6</td>\n",
       "      <td>4WD</td>\n",
       "      <td>Ethanol/Gas</td>\n",
       "      <td>standard SUV</td>\n",
       "      <td>3</td>\n",
       "      <td>11/16</td>\n",
       "      <td>16/22</td>\n",
       "      <td>13/18</td>\n",
       "      <td>3</td>\n",
       "      <td>No</td>\n",
       "    </tr>\n",
       "    <tr>\n",
       "      <th>454</th>\n",
       "      <td>CHEVROLET Volt</td>\n",
       "      <td>1.5</td>\n",
       "      <td>4</td>\n",
       "      <td>CVT</td>\n",
       "      <td>2WD</td>\n",
       "      <td>Gasoline/Electricity</td>\n",
       "      <td>small car</td>\n",
       "      <td>3</td>\n",
       "      <td>43/113</td>\n",
       "      <td>42/99</td>\n",
       "      <td>42/106</td>\n",
       "      <td>10</td>\n",
       "      <td>Yes</td>\n",
       "    </tr>\n",
       "    <tr>\n",
       "      <th>456</th>\n",
       "      <td>CHEVROLET Volt</td>\n",
       "      <td>1.5</td>\n",
       "      <td>4</td>\n",
       "      <td>CVT</td>\n",
       "      <td>2WD</td>\n",
       "      <td>Gasoline/Electricity</td>\n",
       "      <td>small car</td>\n",
       "      <td>7</td>\n",
       "      <td>43/113</td>\n",
       "      <td>42/99</td>\n",
       "      <td>42/106</td>\n",
       "      <td>10</td>\n",
       "      <td>Elite</td>\n",
       "    </tr>\n",
       "    <tr>\n",
       "      <th>458</th>\n",
       "      <td>CHRYSLER 300</td>\n",
       "      <td>3.6</td>\n",
       "      <td>6</td>\n",
       "      <td>Auto-8</td>\n",
       "      <td>2WD</td>\n",
       "      <td>Ethanol/Gas</td>\n",
       "      <td>large car</td>\n",
       "      <td>3</td>\n",
       "      <td>14/19</td>\n",
       "      <td>22/30</td>\n",
       "      <td>17/23</td>\n",
       "      <td>5</td>\n",
       "      <td>No</td>\n",
       "    </tr>\n",
       "    <tr>\n",
       "      <th>462</th>\n",
       "      <td>CHRYSLER 300</td>\n",
       "      <td>3.6</td>\n",
       "      <td>6</td>\n",
       "      <td>Auto-8</td>\n",
       "      <td>4WD</td>\n",
       "      <td>Ethanol/Gas</td>\n",
       "      <td>large car</td>\n",
       "      <td>3</td>\n",
       "      <td>13/18</td>\n",
       "      <td>20/27</td>\n",
       "      <td>16/21</td>\n",
       "      <td>4</td>\n",
       "      <td>No</td>\n",
       "    </tr>\n",
       "    <tr>\n",
       "      <th>492</th>\n",
       "      <td>DODGE Charger</td>\n",
       "      <td>3.6</td>\n",
       "      <td>6</td>\n",
       "      <td>Auto-8</td>\n",
       "      <td>2WD</td>\n",
       "      <td>Ethanol/Gas</td>\n",
       "      <td>large car</td>\n",
       "      <td>3</td>\n",
       "      <td>14/19</td>\n",
       "      <td>22/30</td>\n",
       "      <td>17/23</td>\n",
       "      <td>5</td>\n",
       "      <td>No</td>\n",
       "    </tr>\n",
       "    <tr>\n",
       "      <th>496</th>\n",
       "      <td>DODGE Charger</td>\n",
       "      <td>3.6</td>\n",
       "      <td>6</td>\n",
       "      <td>Auto-8</td>\n",
       "      <td>4WD</td>\n",
       "      <td>Ethanol/Gas</td>\n",
       "      <td>large car</td>\n",
       "      <td>3</td>\n",
       "      <td>13/18</td>\n",
       "      <td>20/27</td>\n",
       "      <td>16/21</td>\n",
       "      <td>4</td>\n",
       "      <td>No</td>\n",
       "    </tr>\n",
       "    <tr>\n",
       "      <th>605</th>\n",
       "      <td>FORD Fusion Energi Plug-in Hybrid</td>\n",
       "      <td>2.0</td>\n",
       "      <td>4</td>\n",
       "      <td>CVT</td>\n",
       "      <td>2WD</td>\n",
       "      <td>Gasoline/Electricity</td>\n",
       "      <td>midsize car</td>\n",
       "      <td>7</td>\n",
       "      <td>43/102</td>\n",
       "      <td>41/91</td>\n",
       "      <td>42/97</td>\n",
       "      <td>10</td>\n",
       "      <td>Elite</td>\n",
       "    </tr>\n",
       "    <tr>\n",
       "      <th>659</th>\n",
       "      <td>GMC Sierra 15</td>\n",
       "      <td>4.3</td>\n",
       "      <td>6</td>\n",
       "      <td>Auto-6</td>\n",
       "      <td>2WD</td>\n",
       "      <td>Ethanol/Gas</td>\n",
       "      <td>pickup</td>\n",
       "      <td>5</td>\n",
       "      <td>12/18</td>\n",
       "      <td>16/24</td>\n",
       "      <td>14/20</td>\n",
       "      <td>4</td>\n",
       "      <td>No</td>\n",
       "    </tr>\n",
       "    <tr>\n",
       "      <th>661</th>\n",
       "      <td>GMC Sierra 15</td>\n",
       "      <td>4.3</td>\n",
       "      <td>6</td>\n",
       "      <td>Auto-6</td>\n",
       "      <td>4WD</td>\n",
       "      <td>Ethanol/Gas</td>\n",
       "      <td>pickup</td>\n",
       "      <td>5</td>\n",
       "      <td>12/17</td>\n",
       "      <td>15/22</td>\n",
       "      <td>13/19</td>\n",
       "      <td>3</td>\n",
       "      <td>No</td>\n",
       "    </tr>\n",
       "    <tr>\n",
       "      <th>663</th>\n",
       "      <td>GMC Sierra 15</td>\n",
       "      <td>5.3</td>\n",
       "      <td>8</td>\n",
       "      <td>Auto-6</td>\n",
       "      <td>2WD</td>\n",
       "      <td>Ethanol/Gas</td>\n",
       "      <td>pickup</td>\n",
       "      <td>3</td>\n",
       "      <td>12/16</td>\n",
       "      <td>17/23</td>\n",
       "      <td>14/19</td>\n",
       "      <td>3</td>\n",
       "      <td>No</td>\n",
       "    </tr>\n",
       "    <tr>\n",
       "      <th>697</th>\n",
       "      <td>GMC Yukon 1500</td>\n",
       "      <td>5.3</td>\n",
       "      <td>8</td>\n",
       "      <td>Auto-6</td>\n",
       "      <td>2WD</td>\n",
       "      <td>Ethanol/Gas</td>\n",
       "      <td>standard SUV</td>\n",
       "      <td>3</td>\n",
       "      <td>12/16</td>\n",
       "      <td>17/23</td>\n",
       "      <td>14/19</td>\n",
       "      <td>3</td>\n",
       "      <td>No</td>\n",
       "    </tr>\n",
       "    <tr>\n",
       "      <th>701</th>\n",
       "      <td>GMC Yukon 1500</td>\n",
       "      <td>5.3</td>\n",
       "      <td>8</td>\n",
       "      <td>Auto-6</td>\n",
       "      <td>4WD</td>\n",
       "      <td>Ethanol/Gas</td>\n",
       "      <td>standard SUV</td>\n",
       "      <td>3</td>\n",
       "      <td>11/16</td>\n",
       "      <td>16/22</td>\n",
       "      <td>13/18</td>\n",
       "      <td>3</td>\n",
       "      <td>No</td>\n",
       "    </tr>\n",
       "    <tr>\n",
       "      <th>709</th>\n",
       "      <td>GMC Yukon 1500 XL</td>\n",
       "      <td>5.3</td>\n",
       "      <td>8</td>\n",
       "      <td>Auto-6</td>\n",
       "      <td>2WD</td>\n",
       "      <td>Ethanol/Gas</td>\n",
       "      <td>standard SUV</td>\n",
       "      <td>3</td>\n",
       "      <td>12/16</td>\n",
       "      <td>17/23</td>\n",
       "      <td>14/19</td>\n",
       "      <td>3</td>\n",
       "      <td>No</td>\n",
       "    </tr>\n",
       "    <tr>\n",
       "      <th>715</th>\n",
       "      <td>GMC Yukon XL 1500</td>\n",
       "      <td>5.3</td>\n",
       "      <td>8</td>\n",
       "      <td>Auto-6</td>\n",
       "      <td>4WD</td>\n",
       "      <td>Ethanol/Gas</td>\n",
       "      <td>standard SUV</td>\n",
       "      <td>3</td>\n",
       "      <td>11/16</td>\n",
       "      <td>15/22</td>\n",
       "      <td>12/18</td>\n",
       "      <td>3</td>\n",
       "      <td>No</td>\n",
       "    </tr>\n",
       "    <tr>\n",
       "      <th>892</th>\n",
       "      <td>JEEP Cherokee</td>\n",
       "      <td>2.4</td>\n",
       "      <td>4</td>\n",
       "      <td>Auto-9</td>\n",
       "      <td>2WD</td>\n",
       "      <td>Ethanol/Gas</td>\n",
       "      <td>small SUV</td>\n",
       "      <td>3</td>\n",
       "      <td>15/21</td>\n",
       "      <td>22/30</td>\n",
       "      <td>18/25</td>\n",
       "      <td>5</td>\n",
       "      <td>No</td>\n",
       "    </tr>\n",
       "    <tr>\n",
       "      <th>896</th>\n",
       "      <td>JEEP Cherokee</td>\n",
       "      <td>2.4</td>\n",
       "      <td>4</td>\n",
       "      <td>Auto-9</td>\n",
       "      <td>4WD</td>\n",
       "      <td>Ethanol/Gas</td>\n",
       "      <td>small SUV</td>\n",
       "      <td>3</td>\n",
       "      <td>14/21</td>\n",
       "      <td>21/28</td>\n",
       "      <td>17/23</td>\n",
       "      <td>5</td>\n",
       "      <td>No</td>\n",
       "    </tr>\n",
       "    <tr>\n",
       "      <th>933</th>\n",
       "      <td>KARMA Revero</td>\n",
       "      <td>2.0</td>\n",
       "      <td>4</td>\n",
       "      <td>Auto-1</td>\n",
       "      <td>2WD</td>\n",
       "      <td>Gasoline/Electricity</td>\n",
       "      <td>small car</td>\n",
       "      <td>1</td>\n",
       "      <td>20/59</td>\n",
       "      <td>21/61</td>\n",
       "      <td>20/60</td>\n",
       "      <td>10</td>\n",
       "      <td>No</td>\n",
       "    </tr>\n",
       "    <tr>\n",
       "      <th>1162</th>\n",
       "      <td>MERCEDES-BENZ CLA250 4Matic</td>\n",
       "      <td>2.0</td>\n",
       "      <td>4</td>\n",
       "      <td>AutoMan-7</td>\n",
       "      <td>4WD</td>\n",
       "      <td>Ethanol/Gas</td>\n",
       "      <td>small car</td>\n",
       "      <td>5</td>\n",
       "      <td>17/24</td>\n",
       "      <td>24/32</td>\n",
       "      <td>20/27</td>\n",
       "      <td>6</td>\n",
       "      <td>No</td>\n",
       "    </tr>\n",
       "    <tr>\n",
       "      <th>1179</th>\n",
       "      <td>MERCEDES-BENZ GLA250 4Matic</td>\n",
       "      <td>2.0</td>\n",
       "      <td>4</td>\n",
       "      <td>AutoMan-7</td>\n",
       "      <td>4WD</td>\n",
       "      <td>Ethanol/Gas</td>\n",
       "      <td>small SUV</td>\n",
       "      <td>5</td>\n",
       "      <td>17/23</td>\n",
       "      <td>23/31</td>\n",
       "      <td>19/26</td>\n",
       "      <td>5</td>\n",
       "      <td>No</td>\n",
       "    </tr>\n",
       "    <tr>\n",
       "      <th>1192</th>\n",
       "      <td>MERCEDES-BENZ GLE350 4Matic</td>\n",
       "      <td>3.5</td>\n",
       "      <td>6</td>\n",
       "      <td>Auto-7</td>\n",
       "      <td>4WD</td>\n",
       "      <td>Ethanol/Gas</td>\n",
       "      <td>standard SUV</td>\n",
       "      <td>3</td>\n",
       "      <td>13/18</td>\n",
       "      <td>17/22</td>\n",
       "      <td>14/19</td>\n",
       "      <td>3</td>\n",
       "      <td>No</td>\n",
       "    </tr>\n",
       "    <tr>\n",
       "      <th>1256</th>\n",
       "      <td>MINI Cooper SE Countryman All4</td>\n",
       "      <td>1.5</td>\n",
       "      <td>3</td>\n",
       "      <td>SemiAuto-6</td>\n",
       "      <td>4WD</td>\n",
       "      <td>Gasoline/Electricity</td>\n",
       "      <td>midsize car</td>\n",
       "      <td>3</td>\n",
       "      <td>28/63</td>\n",
       "      <td>27/66</td>\n",
       "      <td>27/65</td>\n",
       "      <td>9</td>\n",
       "      <td>Yes</td>\n",
       "    </tr>\n",
       "    <tr>\n",
       "      <th>1507</th>\n",
       "      <td>TOYOTA Sequoia FFV</td>\n",
       "      <td>5.7</td>\n",
       "      <td>8</td>\n",
       "      <td>SemiAuto-6</td>\n",
       "      <td>4WD</td>\n",
       "      <td>Ethanol/Gas</td>\n",
       "      <td>standard SUV</td>\n",
       "      <td>5</td>\n",
       "      <td>9/13</td>\n",
       "      <td>13/17</td>\n",
       "      <td>10/14</td>\n",
       "      <td>1</td>\n",
       "      <td>No</td>\n",
       "    </tr>\n",
       "    <tr>\n",
       "      <th>1517</th>\n",
       "      <td>TOYOTA Tundra FFV</td>\n",
       "      <td>5.7</td>\n",
       "      <td>8</td>\n",
       "      <td>SemiAuto-6</td>\n",
       "      <td>4WD</td>\n",
       "      <td>Ethanol/Gas</td>\n",
       "      <td>pickup</td>\n",
       "      <td>5</td>\n",
       "      <td>9/13</td>\n",
       "      <td>12/17</td>\n",
       "      <td>10/15</td>\n",
       "      <td>2</td>\n",
       "      <td>No</td>\n",
       "    </tr>\n",
       "    <tr>\n",
       "      <th>1577</th>\n",
       "      <td>VOLVO S90</td>\n",
       "      <td>2.0</td>\n",
       "      <td>4</td>\n",
       "      <td>SemiAuto-8</td>\n",
       "      <td>4WD</td>\n",
       "      <td>Gasoline/Electricity</td>\n",
       "      <td>midsize car</td>\n",
       "      <td>7</td>\n",
       "      <td>26/70</td>\n",
       "      <td>33/72</td>\n",
       "      <td>29/71</td>\n",
       "      <td>10</td>\n",
       "      <td>Elite</td>\n",
       "    </tr>\n",
       "    <tr>\n",
       "      <th>1601</th>\n",
       "      <td>VOLVO XC 60</td>\n",
       "      <td>2.0</td>\n",
       "      <td>4</td>\n",
       "      <td>SemiAuto-8</td>\n",
       "      <td>4WD</td>\n",
       "      <td>Gasoline/Electricity</td>\n",
       "      <td>small SUV</td>\n",
       "      <td>7</td>\n",
       "      <td>26/60</td>\n",
       "      <td>28/58</td>\n",
       "      <td>26/59</td>\n",
       "      <td>10</td>\n",
       "      <td>Elite</td>\n",
       "    </tr>\n",
       "    <tr>\n",
       "      <th>1609</th>\n",
       "      <td>VOLVO XC 90</td>\n",
       "      <td>2.0</td>\n",
       "      <td>4</td>\n",
       "      <td>SemiAuto-8</td>\n",
       "      <td>4WD</td>\n",
       "      <td>Gasoline/Electricity</td>\n",
       "      <td>standard SUV</td>\n",
       "      <td>7</td>\n",
       "      <td>26/63</td>\n",
       "      <td>30/61</td>\n",
       "      <td>27/62</td>\n",
       "      <td>10</td>\n",
       "      <td>Elite</td>\n",
       "    </tr>\n",
       "  </tbody>\n",
       "</table>\n",
       "</div>"
      ],
      "text/plain": [
       "                                  model  displ  cyl       trans drive  \\\n",
       "108                            BMW 330e    2.0    4  SemiAuto-8   2WD   \n",
       "160                            BMW 530e    2.0    4  SemiAuto-8   2WD   \n",
       "162                            BMW 530e    2.0    4  SemiAuto-8   4WD   \n",
       "188                            BMW 740e    2.0    4  SemiAuto-8   4WD   \n",
       "382                    CHEVROLET Impala    3.6    6  SemiAuto-6   2WD   \n",
       "394              CHEVROLET Silverado 15    4.3    6      Auto-6   2WD   \n",
       "396              CHEVROLET Silverado 15    4.3    6      Auto-6   4WD   \n",
       "398              CHEVROLET Silverado 15    5.3    8      Auto-6   2WD   \n",
       "428             CHEVROLET Suburban 1500    5.3    8      Auto-6   2WD   \n",
       "432             CHEVROLET Suburban 1500    5.3    8      Auto-6   4WD   \n",
       "436                CHEVROLET Tahoe 1500    5.3    8      Auto-6   2WD   \n",
       "440                CHEVROLET Tahoe 1500    5.3    8      Auto-6   4WD   \n",
       "454                      CHEVROLET Volt    1.5    4         CVT   2WD   \n",
       "456                      CHEVROLET Volt    1.5    4         CVT   2WD   \n",
       "458                        CHRYSLER 300    3.6    6      Auto-8   2WD   \n",
       "462                        CHRYSLER 300    3.6    6      Auto-8   4WD   \n",
       "492                       DODGE Charger    3.6    6      Auto-8   2WD   \n",
       "496                       DODGE Charger    3.6    6      Auto-8   4WD   \n",
       "605   FORD Fusion Energi Plug-in Hybrid    2.0    4         CVT   2WD   \n",
       "659                       GMC Sierra 15    4.3    6      Auto-6   2WD   \n",
       "661                       GMC Sierra 15    4.3    6      Auto-6   4WD   \n",
       "663                       GMC Sierra 15    5.3    8      Auto-6   2WD   \n",
       "697                      GMC Yukon 1500    5.3    8      Auto-6   2WD   \n",
       "701                      GMC Yukon 1500    5.3    8      Auto-6   4WD   \n",
       "709                   GMC Yukon 1500 XL    5.3    8      Auto-6   2WD   \n",
       "715                   GMC Yukon XL 1500    5.3    8      Auto-6   4WD   \n",
       "892                       JEEP Cherokee    2.4    4      Auto-9   2WD   \n",
       "896                       JEEP Cherokee    2.4    4      Auto-9   4WD   \n",
       "933                        KARMA Revero    2.0    4      Auto-1   2WD   \n",
       "1162        MERCEDES-BENZ CLA250 4Matic    2.0    4   AutoMan-7   4WD   \n",
       "1179        MERCEDES-BENZ GLA250 4Matic    2.0    4   AutoMan-7   4WD   \n",
       "1192        MERCEDES-BENZ GLE350 4Matic    3.5    6      Auto-7   4WD   \n",
       "1256     MINI Cooper SE Countryman All4    1.5    3  SemiAuto-6   4WD   \n",
       "1507                 TOYOTA Sequoia FFV    5.7    8  SemiAuto-6   4WD   \n",
       "1517                  TOYOTA Tundra FFV    5.7    8  SemiAuto-6   4WD   \n",
       "1577                          VOLVO S90    2.0    4  SemiAuto-8   4WD   \n",
       "1601                        VOLVO XC 60    2.0    4  SemiAuto-8   4WD   \n",
       "1609                        VOLVO XC 90    2.0    4  SemiAuto-8   4WD   \n",
       "\n",
       "                      fuel     veh_class  air_pollution_score city_mpg  \\\n",
       "108   Gasoline/Electricity     small car                    3    28/66   \n",
       "160   Gasoline/Electricity     small car                    7    27/70   \n",
       "162   Gasoline/Electricity     small car                    7    27/66   \n",
       "188   Gasoline/Electricity     large car                    3    25/62   \n",
       "382            Ethanol/Gas     large car                    5    14/18   \n",
       "394            Ethanol/Gas        pickup                    5    12/18   \n",
       "396            Ethanol/Gas        pickup                    5    12/17   \n",
       "398            Ethanol/Gas        pickup                    3    12/16   \n",
       "428            Ethanol/Gas  standard SUV                    3    12/16   \n",
       "432            Ethanol/Gas  standard SUV                    3    11/16   \n",
       "436            Ethanol/Gas  standard SUV                    3    12/16   \n",
       "440            Ethanol/Gas  standard SUV                    3    11/16   \n",
       "454   Gasoline/Electricity     small car                    3   43/113   \n",
       "456   Gasoline/Electricity     small car                    7   43/113   \n",
       "458            Ethanol/Gas     large car                    3    14/19   \n",
       "462            Ethanol/Gas     large car                    3    13/18   \n",
       "492            Ethanol/Gas     large car                    3    14/19   \n",
       "496            Ethanol/Gas     large car                    3    13/18   \n",
       "605   Gasoline/Electricity   midsize car                    7   43/102   \n",
       "659            Ethanol/Gas        pickup                    5    12/18   \n",
       "661            Ethanol/Gas        pickup                    5    12/17   \n",
       "663            Ethanol/Gas        pickup                    3    12/16   \n",
       "697            Ethanol/Gas  standard SUV                    3    12/16   \n",
       "701            Ethanol/Gas  standard SUV                    3    11/16   \n",
       "709            Ethanol/Gas  standard SUV                    3    12/16   \n",
       "715            Ethanol/Gas  standard SUV                    3    11/16   \n",
       "892            Ethanol/Gas     small SUV                    3    15/21   \n",
       "896            Ethanol/Gas     small SUV                    3    14/21   \n",
       "933   Gasoline/Electricity     small car                    1    20/59   \n",
       "1162           Ethanol/Gas     small car                    5    17/24   \n",
       "1179           Ethanol/Gas     small SUV                    5    17/23   \n",
       "1192           Ethanol/Gas  standard SUV                    3    13/18   \n",
       "1256  Gasoline/Electricity   midsize car                    3    28/63   \n",
       "1507           Ethanol/Gas  standard SUV                    5     9/13   \n",
       "1517           Ethanol/Gas        pickup                    5     9/13   \n",
       "1577  Gasoline/Electricity   midsize car                    7    26/70   \n",
       "1601  Gasoline/Electricity     small SUV                    7    26/60   \n",
       "1609  Gasoline/Electricity  standard SUV                    7    26/63   \n",
       "\n",
       "     hwy_mpg cmb_mpg  greenhouse_gas_score smartway  \n",
       "108    34/78   30/71                    10      Yes  \n",
       "160    31/75   29/72                    10    Elite  \n",
       "162    31/68   28/67                    10    Elite  \n",
       "188    29/68   27/64                     9      Yes  \n",
       "382    20/28   16/22                     4       No  \n",
       "394    16/24   14/20                     4       No  \n",
       "396    15/22   13/19                     3       No  \n",
       "398    17/23   14/19                     3       No  \n",
       "428    17/23   14/19                     3       No  \n",
       "432    15/22   12/18                     3       No  \n",
       "436    17/23   14/19                     3       No  \n",
       "440    16/22   13/18                     3       No  \n",
       "454    42/99  42/106                    10      Yes  \n",
       "456    42/99  42/106                    10    Elite  \n",
       "458    22/30   17/23                     5       No  \n",
       "462    20/27   16/21                     4       No  \n",
       "492    22/30   17/23                     5       No  \n",
       "496    20/27   16/21                     4       No  \n",
       "605    41/91   42/97                    10    Elite  \n",
       "659    16/24   14/20                     4       No  \n",
       "661    15/22   13/19                     3       No  \n",
       "663    17/23   14/19                     3       No  \n",
       "697    17/23   14/19                     3       No  \n",
       "701    16/22   13/18                     3       No  \n",
       "709    17/23   14/19                     3       No  \n",
       "715    15/22   12/18                     3       No  \n",
       "892    22/30   18/25                     5       No  \n",
       "896    21/28   17/23                     5       No  \n",
       "933    21/61   20/60                    10       No  \n",
       "1162   24/32   20/27                     6       No  \n",
       "1179   23/31   19/26                     5       No  \n",
       "1192   17/22   14/19                     3       No  \n",
       "1256   27/66   27/65                     9      Yes  \n",
       "1507   13/17   10/14                     1       No  \n",
       "1517   12/17   10/15                     2       No  \n",
       "1577   33/72   29/71                    10    Elite  \n",
       "1601   28/58   26/59                    10    Elite  \n",
       "1609   30/61   27/62                    10    Elite  "
      ]
     },
     "execution_count": 92,
     "metadata": {},
     "output_type": "execute_result"
    }
   ],
   "source": [
    "hb_18"
   ]
  },
  {
   "cell_type": "code",
   "execution_count": 108,
   "metadata": {},
   "outputs": [],
   "source": [
    "#we will make 2 copies of it\n",
    "df1_08=hb_08.copy()\n",
    "df2_08=hb_08.copy()"
   ]
  },
  {
   "cell_type": "code",
   "execution_count": 109,
   "metadata": {},
   "outputs": [],
   "source": [
    "#List of columns to split\n",
    "split_columns=['fuel','air_pollution_score','city_mpg','hwy_mpg','cmb_mpg','greenhouse_gas_score']\n",
    "#Splitting by using apply function \n",
    "for c in split_columns:\n",
    "    df1_08[c]=df1_08[c].apply(lambda x:x.split('/')[0])\n",
    "    df2_08[c]=df2_08[c].apply(lambda x:x.split('/')[1])"
   ]
  },
  {
   "cell_type": "code",
   "execution_count": 110,
   "metadata": {},
   "outputs": [
    {
     "data": {
      "text/html": [
       "<div>\n",
       "<style scoped>\n",
       "    .dataframe tbody tr th:only-of-type {\n",
       "        vertical-align: middle;\n",
       "    }\n",
       "\n",
       "    .dataframe tbody tr th {\n",
       "        vertical-align: top;\n",
       "    }\n",
       "\n",
       "    .dataframe thead th {\n",
       "        text-align: right;\n",
       "    }\n",
       "</style>\n",
       "<table border=\"1\" class=\"dataframe\">\n",
       "  <thead>\n",
       "    <tr style=\"text-align: right;\">\n",
       "      <th></th>\n",
       "      <th>model</th>\n",
       "      <th>displ</th>\n",
       "      <th>cyl</th>\n",
       "      <th>trans</th>\n",
       "      <th>drive</th>\n",
       "      <th>fuel</th>\n",
       "      <th>veh_class</th>\n",
       "      <th>air_pollution_score</th>\n",
       "      <th>city_mpg</th>\n",
       "      <th>hwy_mpg</th>\n",
       "      <th>cmb_mpg</th>\n",
       "      <th>greenhouse_gas_score</th>\n",
       "      <th>smartway</th>\n",
       "    </tr>\n",
       "  </thead>\n",
       "  <tbody>\n",
       "    <tr>\n",
       "      <th>1550</th>\n",
       "      <td>MERCEDES-BENZ C300</td>\n",
       "      <td>3.0</td>\n",
       "      <td>6</td>\n",
       "      <td>Auto-L7</td>\n",
       "      <td>2WD</td>\n",
       "      <td>ethanol</td>\n",
       "      <td>small car</td>\n",
       "      <td>6</td>\n",
       "      <td>13</td>\n",
       "      <td>19</td>\n",
       "      <td>15</td>\n",
       "      <td>7</td>\n",
       "      <td>no</td>\n",
       "    </tr>\n",
       "  </tbody>\n",
       "</table>\n",
       "</div>"
      ],
      "text/plain": [
       "                   model  displ  cyl    trans drive     fuel  veh_class  \\\n",
       "1550  MERCEDES-BENZ C300    3.0    6  Auto-L7   2WD  ethanol  small car   \n",
       "\n",
       "     air_pollution_score city_mpg hwy_mpg cmb_mpg greenhouse_gas_score  \\\n",
       "1550                   6       13      19      15                    7   \n",
       "\n",
       "     smartway  \n",
       "1550       no  "
      ]
     },
     "execution_count": 110,
     "metadata": {},
     "output_type": "execute_result"
    }
   ],
   "source": [
    "df1_08"
   ]
  },
  {
   "cell_type": "code",
   "execution_count": 111,
   "metadata": {},
   "outputs": [
    {
     "data": {
      "text/html": [
       "<div>\n",
       "<style scoped>\n",
       "    .dataframe tbody tr th:only-of-type {\n",
       "        vertical-align: middle;\n",
       "    }\n",
       "\n",
       "    .dataframe tbody tr th {\n",
       "        vertical-align: top;\n",
       "    }\n",
       "\n",
       "    .dataframe thead th {\n",
       "        text-align: right;\n",
       "    }\n",
       "</style>\n",
       "<table border=\"1\" class=\"dataframe\">\n",
       "  <thead>\n",
       "    <tr style=\"text-align: right;\">\n",
       "      <th></th>\n",
       "      <th>model</th>\n",
       "      <th>displ</th>\n",
       "      <th>cyl</th>\n",
       "      <th>trans</th>\n",
       "      <th>drive</th>\n",
       "      <th>fuel</th>\n",
       "      <th>veh_class</th>\n",
       "      <th>air_pollution_score</th>\n",
       "      <th>city_mpg</th>\n",
       "      <th>hwy_mpg</th>\n",
       "      <th>cmb_mpg</th>\n",
       "      <th>greenhouse_gas_score</th>\n",
       "      <th>smartway</th>\n",
       "    </tr>\n",
       "  </thead>\n",
       "  <tbody>\n",
       "    <tr>\n",
       "      <th>1550</th>\n",
       "      <td>MERCEDES-BENZ C300</td>\n",
       "      <td>3.0</td>\n",
       "      <td>6</td>\n",
       "      <td>Auto-L7</td>\n",
       "      <td>2WD</td>\n",
       "      <td>gas</td>\n",
       "      <td>small car</td>\n",
       "      <td>4</td>\n",
       "      <td>18</td>\n",
       "      <td>25</td>\n",
       "      <td>21</td>\n",
       "      <td>6</td>\n",
       "      <td>no</td>\n",
       "    </tr>\n",
       "  </tbody>\n",
       "</table>\n",
       "</div>"
      ],
      "text/plain": [
       "                   model  displ  cyl    trans drive fuel  veh_class  \\\n",
       "1550  MERCEDES-BENZ C300    3.0    6  Auto-L7   2WD  gas  small car   \n",
       "\n",
       "     air_pollution_score city_mpg hwy_mpg cmb_mpg greenhouse_gas_score  \\\n",
       "1550                   4       18      25      21                    6   \n",
       "\n",
       "     smartway  \n",
       "1550       no  "
      ]
     },
     "execution_count": 111,
     "metadata": {},
     "output_type": "execute_result"
    }
   ],
   "source": [
    "df2_08"
   ]
  },
  {
   "cell_type": "markdown",
   "metadata": {},
   "source": [
    " As we can see. It has been done for 2008 data. Now it is time to repeat for 2018 data.In 2018 there is no need to split air_pollution,greenhouse_gas_score as they're in int. "
   ]
  },
  {
   "cell_type": "code",
   "execution_count": 113,
   "metadata": {},
   "outputs": [],
   "source": [
    "split_columns_2018=['fuel','city_mpg','hwy_mpg','cmb_mpg']\n",
    "df1_18=hb_18.copy()\n",
    "df2_18=hb_18.copy()\n",
    "for c in split_columns_2018:\n",
    "    df1_18[c]=df1_18[c].apply(lambda x:x.split('/')[0])\n",
    "    df2_18[c]=df2_18[c].apply(lambda x:x.split('/')[1])"
   ]
  },
  {
   "cell_type": "markdown",
   "metadata": {},
   "source": [
    "Now that we have successfully split the colums ,its time to drop the columns and append it with these splittes columns"
   ]
  },
  {
   "cell_type": "code",
   "execution_count": 118,
   "metadata": {},
   "outputs": [],
   "source": [
    "a.drop(hb_08.index,inplace=True)\n",
    "b.drop(hb_18.index,inplace=True)"
   ]
  },
  {
   "cell_type": "code",
   "execution_count": 119,
   "metadata": {},
   "outputs": [],
   "source": [
    "spliited_rows_08=df1_08.append(df2_08,ignore_index=True)"
   ]
  },
  {
   "cell_type": "code",
   "execution_count": 120,
   "metadata": {},
   "outputs": [],
   "source": [
    "spliited_rows_18=df1_18.append(df2_18,ignore_index=True)"
   ]
  },
  {
   "cell_type": "code",
   "execution_count": 122,
   "metadata": {},
   "outputs": [],
   "source": [
    "a=a.append(spliited_rows_08,ignore_index=True)"
   ]
  },
  {
   "cell_type": "code",
   "execution_count": 123,
   "metadata": {},
   "outputs": [],
   "source": [
    "b=b.append(spliited_rows_18,ignore_index=True)"
   ]
  },
  {
   "cell_type": "code",
   "execution_count": 124,
   "metadata": {},
   "outputs": [
    {
     "data": {
      "text/plain": [
       "(987, 13)"
      ]
     },
     "execution_count": 124,
     "metadata": {},
     "output_type": "execute_result"
    }
   ],
   "source": [
    "a.shape"
   ]
  },
  {
   "cell_type": "code",
   "execution_count": 125,
   "metadata": {},
   "outputs": [
    {
     "data": {
      "text/plain": [
       "(832, 13)"
      ]
     },
     "execution_count": 125,
     "metadata": {},
     "output_type": "execute_result"
    }
   ],
   "source": [
    "b.shape"
   ]
  },
  {
   "cell_type": "code",
   "execution_count": 126,
   "metadata": {},
   "outputs": [],
   "source": [
    "a['air_pollution_score']=a['air_pollution_score'].astype('float')"
   ]
  },
  {
   "cell_type": "code",
   "execution_count": 127,
   "metadata": {},
   "outputs": [],
   "source": [
    "b['air_pollution_score']=b['air_pollution_score'].astype('float')"
   ]
  },
  {
   "cell_type": "code",
   "execution_count": 130,
   "metadata": {},
   "outputs": [],
   "source": [
    "mpg_columns = ['city_mpg','hwy_mpg','cmb_mpg']\n",
    "for c in mpg_columns:\n",
    "    a[c]=a[c].astype('float')\n",
    "    b[c]=b[c].astype('float')"
   ]
  },
  {
   "cell_type": "code",
   "execution_count": 151,
   "metadata": {},
   "outputs": [],
   "source": [
    "a['greenhouse_gas_score']=a['greenhouse_gas_score'].astype('int')"
   ]
  },
  {
   "cell_type": "markdown",
   "metadata": {},
   "source": [
    "We have successfully cleaned the data. Now we will explore the data with visuals."
   ]
  },
  {
   "cell_type": "markdown",
   "metadata": {},
   "source": [
    "## Step 3: Exploratory Data Analysis"
   ]
  },
  {
   "cell_type": "code",
   "execution_count": 152,
   "metadata": {},
   "outputs": [
    {
     "data": {
      "image/png": "[encoded data removed]",
      "text/plain": [
       "<Figure size 1224x1224 with 49 Axes>"
      ]
     },
     "metadata": {
      "needs_background": "light"
     },
     "output_type": "display_data"
    }
   ],
   "source": [
    "pd.plotting.scatter_matrix(a,figsize=(17,17));"
   ]
  },
  {
   "cell_type": "code",
   "execution_count": 145,
   "metadata": {},
   "outputs": [
    {
     "data": {
      "image/png": "[encoded data removed]",
      "text/plain": [
       "<Figure size 1224x1224 with 49 Axes>"
      ]
     },
     "metadata": {
      "needs_background": "light"
     },
     "output_type": "display_data"
    }
   ],
   "source": [
    "pd.plotting.scatter_matrix(b,figsize=(17,17));"
   ]
  },
  {
   "cell_type": "markdown",
   "metadata": {},
   "source": [
    "## Step-4: Drawing Conclusions"
   ]
  },
  {
   "cell_type": "markdown",
   "metadata": {},
   "source": [
    "Q1: Are more unique models using alternative fuels in 2018 compared to 2008? By how much?\n"
   ]
  },
  {
   "cell_type": "code",
   "execution_count": 160,
   "metadata": {},
   "outputs": [
    {
     "data": {
      "text/plain": [
       "<matplotlib.axes._subplots.AxesSubplot at 0x11bd5d9e8>"
      ]
     },
     "execution_count": 160,
     "metadata": {},
     "output_type": "execute_result"
    },
    {
     "data": {
      "image/png": "[encoded data removed]",
      "text/plain": [
       "<Figure size 432x288 with 1 Axes>"
      ]
     },
     "metadata": {
      "needs_background": "light"
     },
     "output_type": "display_data"
    }
   ],
   "source": [
    "#2008\n",
    "a.fuel.value_counts().plot(kind=\"bar\")"
   ]
  },
  {
   "cell_type": "code",
   "execution_count": 161,
   "metadata": {},
   "outputs": [
    {
     "data": {
      "text/plain": [
       "<matplotlib.axes._subplots.AxesSubplot at 0x11ca1edd8>"
      ]
     },
     "execution_count": 161,
     "metadata": {},
     "output_type": "execute_result"
    },
    {
     "data": {
      "image/png": "[encoded data removed]",
      "text/plain": [
       "<Figure size 432x288 with 1 Axes>"
      ]
     },
     "metadata": {
      "needs_background": "light"
     },
     "output_type": "display_data"
    }
   ],
   "source": [
    "#2018\n",
    "b.fuel.value_counts().plot(kind=\"bar\")"
   ]
  },
  {
   "cell_type": "markdown",
   "metadata": {},
   "source": [
    "Q2: How much have vehicle classes improved in fuel economy (increased in mpg)?\n"
   ]
  },
  {
   "cell_type": "code",
   "execution_count": null,
   "metadata": {},
   "outputs": [],
   "source": []
  },
  {
   "cell_type": "code",
   "execution_count": null,
   "metadata": {},
   "outputs": [],
   "source": []
  },
  {
   "cell_type": "code",
   "execution_count": null,
   "metadata": {},
   "outputs": [],
   "source": []
  },
  {
   "cell_type": "code",
   "execution_count": null,
   "metadata": {},
   "outputs": [],
   "source": []
  },
  {
   "cell_type": "code",
   "execution_count": null,
   "metadata": {},
   "outputs": [],
   "source": []
  }
 ],
 "metadata": {
  "kernelspec": {
   "display_name": "Python 3",
   "language": "python",
   "name": "python3"
  },
  "language_info": {
   "codemirror_mode": {
    "name": "ipython",
    "version": 3
   },
   "file_extension": ".py",
   "mimetype": "text/x-python",
   "name": "python",
   "nbconvert_exporter": "python",
   "pygments_lexer": "ipython3",
   "version": "3.7.2"
  }
 },
 "nbformat": 4,
 "nbformat_minor": 2
}
